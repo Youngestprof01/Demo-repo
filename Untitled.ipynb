{
 "cells": [
  {
   "cell_type": "code",
   "execution_count": 1,
   "id": "2e4860f7",
   "metadata": {},
   "outputs": [],
   "source": [
    "import csv"
   ]
  },
  {
   "cell_type": "code",
   "execution_count": 28,
   "id": "d1d46e81",
   "metadata": {},
   "outputs": [
    {
     "name": "stdout",
     "output_type": "stream",
     "text": [
      "['Name', ' Age', ' Profession']\n",
      "Michael\n",
      "Jack\n",
      "Susan\n"
     ]
    }
   ],
   "source": [
    "with open('people.csv') as csv_file:\n",
    "    csv_reader = csv.reader(csv_file)\n",
    "    columns = next(csv_reader)\n",
    "    print(columns)\n",
    "    for row in csv_reader:\n",
    "        print(row[0])\n",
    "  "
   ]
  },
  {
   "cell_type": "code",
   "execution_count": 29,
   "id": "d3f3cf32",
   "metadata": {},
   "outputs": [],
   "source": [
    "with open('demo.csv', 'w') as open_csv:\n",
    "    pen = csv.writer(open_csv)\n",
    "    pen.writerow(['Name', 'Club', 'Goal Scored'])\n",
    "    pen.writerow(['Rashford, Man U', '24'])\n",
    "    pen.writerow(['Walcott', 'Southampton', '30'])\n",
    "    pen.writerow(['Saka', 'Arsenal', '22'])\n",
    "    "
   ]
  },
  {
   "cell_type": "code",
   "execution_count": 30,
   "id": "15f3087f",
   "metadata": {},
   "outputs": [],
   "source": [
    "x = 1\n",
    "y = 2\n",
    "z = x + y"
   ]
  },
  {
   "cell_type": "code",
   "execution_count": 27,
   "id": "9a77d321",
   "metadata": {},
   "outputs": [
    {
     "name": "stdout",
     "output_type": "stream",
     "text": [
      "3\n"
     ]
    }
   ],
   "source": [
    "print(z)"
   ]
  },
  {
   "cell_type": "code",
   "execution_count": null,
   "id": "6efa5c63",
   "metadata": {},
   "outputs": [],
   "source": []
  }
 ],
 "metadata": {
  "kernelspec": {
   "display_name": "Python 3 (ipykernel)",
   "language": "python",
   "name": "python3"
  },
  "language_info": {
   "codemirror_mode": {
    "name": "ipython",
    "version": 3
   },
   "file_extension": ".py",
   "mimetype": "text/x-python",
   "name": "python",
   "nbconvert_exporter": "python",
   "pygments_lexer": "ipython3",
   "version": "3.9.13"
  }
 },
 "nbformat": 4,
 "nbformat_minor": 5
}
