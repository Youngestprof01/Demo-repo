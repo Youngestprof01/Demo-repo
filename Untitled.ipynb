{
 "cells": [
  {
   "cell_type": "code",
   "execution_count": 1,
   "id": "ce9dd5fb",
   "metadata": {},
   "outputs": [],
   "source": [
    "import csv"
   ]
  },
  {
   "cell_type": "code",
   "execution_count": 23,
   "id": "74d5e5d6",
   "metadata": {},
   "outputs": [
    {
     "name": "stdout",
     "output_type": "stream",
     "text": [
      "['Name', ' Age', ' Profession']\n",
      "['Michael', ' 22', ' Engineer']\n",
      "['Jack', ' 23', ' Doctor']\n",
      "['Susan', ' 25', ' Nurse']\n"
     ]
    }
   ],
   "source": [
    "with open('people.csv') as csv_file:\n",
    "    csv_reader = csv.reader(csv_file)\n",
    "    columns = next(csv_reader)\n",
    "    print(columns)\n",
    "    for row in csv_reader:\n",
    "        print(row)\n",
    "  "
   ]
  },
  {
   "cell_type": "code",
   "execution_count": 25,
   "id": "97762be1",
   "metadata": {},
   "outputs": [],
   "source": [
    "with open('demo.csv', 'w') as open_csv:\n",
    "    pen = csv.writer(open_csv)\n",
    "    pen.writerow(['Name', 'Club', 'Goal Scored'])\n",
    "    pen.writerow(['Rashford, Man U', '24'])\n",
    "    pen.writerow(['Walcott', 'Southampton', '30'])\n",
    "    pen.writerow(['Saka', 'Arsenal', '22'])\n",
    "    "
   ]
  },
  {
   "cell_type": "code",
   "execution_count": 15,
   "id": "8af6280e",
   "metadata": {},
   "outputs": [
    {
     "data": {
      "text/plain": [
       "'idris'"
      ]
     },
     "execution_count": 15,
     "metadata": {},
     "output_type": "execute_result"
    }
   ],
   "source": []
  },
  {
   "cell_type": "code",
   "execution_count": null,
   "id": "c21190aa",
   "metadata": {},
   "outputs": [],
   "source": []
  }
 ],
 "metadata": {
  "kernelspec": {
   "display_name": "Python 3 (ipykernel)",
   "language": "python",
   "name": "python3"
  },
  "language_info": {
   "codemirror_mode": {
    "name": "ipython",
    "version": 3
   },
   "file_extension": ".py",
   "mimetype": "text/x-python",
   "name": "python",
   "nbconvert_exporter": "python",
   "pygments_lexer": "ipython3",
   "version": "3.9.13"
  }
 },
 "nbformat": 4,
 "nbformat_minor": 5
}
